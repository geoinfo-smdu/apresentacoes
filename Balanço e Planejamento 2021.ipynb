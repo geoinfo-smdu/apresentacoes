{
 "cells": [
  {
   "cell_type": "markdown",
   "metadata": {
    "slideshow": {
     "slide_type": "slide"
    }
   },
   "source": [
    "# Balanço e Planejamento GeoInfo 20<21\n",
    "\n",
    "GeoProcessamento e Dados - GeoInfo/SMDU - 14/12/2020"
   ]
  },
  {
   "cell_type": "markdown",
   "metadata": {
    "slideshow": {
     "slide_type": "subslide"
    }
   },
   "source": [
    "## Agenda\n",
    "\n",
    "* Uma _linha_ do tempo olhando para o GitHub do Departamento\n",
    "* 4 momentos em 2020\n",
    "    * Organização Interna\n",
    "    * LiDAR 3D\n",
    "    * Publicação e Assessoria\n",
    "    * Momento Atual\n",
    "* Casos para replicar e estimular\n",
    "* Compartilhamento de saberes e automia\n",
    "* Cronograma 21 - PDE"
   ]
  },
  {
   "cell_type": "markdown",
   "metadata": {
    "slideshow": {
     "slide_type": "slide"
    }
   },
   "source": [
    "## Uma ~~linha~~ do tempo a partir do GitHub do Departamento\n",
    "\n",
    "> GitHub é uma plataforma de hospedagem de código-fonte e arquivos com controle de versão usando o Git. É organizado em repositórios com obetivo específico. Por exemplo este de apresentações.\n",
    "\n",
    "* GitHub de GeoInfo\n",
    "    * desde Outubro/2019\n",
    "    * 51 repositórios\n",
    "    * https://github.com/geoinfo-smdu\n",
    "* Outras empresas e departamentos: SPUrbanismo, Patio Digital, SMIT, MobiLab, etc ..."
   ]
  },
  {
   "cell_type": "markdown",
   "metadata": {
    "slideshow": {
     "slide_type": "subslide"
    }
   },
   "source": [
    "## Entendendo o fluxo de trabalho\n",
    "\n",
    "> Um exemplo do download de múltiplas camadas https://github.com/geoinfo-smdu/downloads-multiplos"
   ]
  },
  {
   "cell_type": "markdown",
   "metadata": {
    "slideshow": {
     "slide_type": "slide"
    }
   },
   "source": [
    "## Começo de 2020 (Organização interna)\n",
    "\n",
    "* Inventários:\n",
    "    * https://github.com/geoinfo-smdu/inventario-de-arquivos\n",
    "    * https://github.com/geoinfo-smdu/Inventario-GeoSampa\n",
    "* Logs de acesso\n",
    "    * https://github.com/geoinfo-smdu/geoserver-log-analyser\n",
    "* Apresentações (SUB-SLIDE)\n",
    "    * https://geoinfo-smdu.github.io/apresentacoes/geoinfo-acervo-2020.html#/\n",
    "* Plugin Chrome/Firefox (SUB-SLIDE)\n",
    "    * https://github.com/geoinfo-smdu/geosampa-mais-livre/\n"
   ]
  },
  {
   "cell_type": "code",
   "execution_count": 6,
   "metadata": {
    "slideshow": {
     "slide_type": "subslide"
    }
   },
   "outputs": [
    {
     "data": {
      "text/html": [
       "\n",
       "        <iframe\n",
       "            width=\"950\"\n",
       "            height=\"600\"\n",
       "            src=\"https://geoinfo-smdu.github.io/apresentacoes/geoinfo-acervo-2020.html#/\"\n",
       "            frameborder=\"0\"\n",
       "            allowfullscreen\n",
       "        ></iframe>\n",
       "        "
      ],
      "text/plain": [
       "<IPython.lib.display.IFrame at 0x7f2c7c78f6a0>"
      ]
     },
     "execution_count": 6,
     "metadata": {},
     "output_type": "execute_result"
    }
   ],
   "source": [
    "from IPython.display import IFrame\n",
    "IFrame(\"https://geoinfo-smdu.github.io/apresentacoes/geoinfo-acervo-2020.html#/\", width=950, height=600)"
   ]
  },
  {
   "cell_type": "markdown",
   "metadata": {
    "slideshow": {
     "slide_type": "subslide"
    }
   },
   "source": [
    "### Chrome e Firefox > 2020\n",
    "\n",
    "* Autonomia para modificar comportamento de página HTML\n",
    "* https://addons.mozilla.org/pt-BR/firefox/addon/geosampa-livre/\n",
    "* https://chrome.google.com/webstore/detail/geosampa%2Blivre/blodiljgmokaioebejlhlmniiafddmbk"
   ]
  },
  {
   "cell_type": "markdown",
   "metadata": {
    "slideshow": {
     "slide_type": "slide"
    }
   },
   "source": [
    "## Segundo momento de 2020 (LiDAR 3D)\n",
    "\n",
    "* Aprendendo a trabalhar com Nuvem de Pontos\n",
    "    * https://github.com/geoinfo-smdu/usando-MDT\n",
    "* E o Potree hein, Danilo? Existiria se fosse no tele-trabalho?\n",
    "    * https://github.com/geoinfo-smdu/M3DC\n",
    "* Processando mais de 31 bilhões de pontos\n",
    "    * https://github.com/geoinfo-smdu/processamento-laz-mds\n",
    "* Traduzindo e Publicando o visualizador \n",
    "    * https://github.com/geoinfo-smdu/nuvem-de-pontos-web\n",
    "* Utilizando o serviço de nuvem de pontos\n",
    "    * https://github.com/geoinfo-smdu/usando-Entwine\n"
   ]
  },
  {
   "cell_type": "markdown",
   "metadata": {
    "slideshow": {
     "slide_type": "subslide"
    }
   },
   "source": [
    "### Apresentação MundoGeo \n",
    "\n",
    "* https://github.com/geoinfo-smdu/mundo-Geo-Webinar-agosto-2020\n",
    "\n",
    "![](https://raw.githubusercontent.com/geoinfo-smdu/mundo-Geo-Webinar-agosto-2020/d531a079230858c5b7da4e94566c98728d0efa68/imagens/CloudCompare-Se-15cm.png)"
   ]
  },
  {
   "cell_type": "markdown",
   "metadata": {
    "slideshow": {
     "slide_type": "slide"
    }
   },
   "source": [
    "## Terceiro Momento de 2020 (Publicar e assessorar)\n",
    "\n",
    "* Cidade Solidária\n",
    "    * https://github.com/geoinfo-smdu/operacao-covid\n",
    "    * Autonomia de publicação\n",
    "    * Agilidade\n",
    "    * Economia de recurso público\n",
    "    * Novo paradigma de publicações?"
   ]
  },
  {
   "cell_type": "markdown",
   "metadata": {
    "slideshow": {
     "slide_type": "subslide"
    }
   },
   "source": [
    "## HidroSampa\n",
    "\n",
    "* https://github.com/geoinfo-smdu/hidro-sampa\n",
    "* https://colab.research.google.com/github/geoinfo-smdu/hidro-sampa/blob/master/Hidro%20Sampa.ipynb#scrollTo=iaaoBRxuFb6c"
   ]
  },
  {
   "cell_type": "code",
   "execution_count": 13,
   "metadata": {},
   "outputs": [
    {
     "data": {
      "text/html": [
       "\n",
       "        <iframe\n",
       "            width=\"950\"\n",
       "            height=\"600\"\n",
       "            src=\"arquivos/Educação 3d.pdf\"\n",
       "            frameborder=\"0\"\n",
       "            allowfullscreen\n",
       "        ></iframe>\n",
       "        "
      ],
      "text/plain": [
       "<IPython.lib.display.IFrame at 0x7f2c7c722fa0>"
      ]
     },
     "execution_count": 13,
     "metadata": {},
     "output_type": "execute_result"
    }
   ],
   "source": [
    "IFrame(\"arquivos/Educação 3d.pdf\", width=950, height=600)"
   ]
  },
  {
   "cell_type": "markdown",
   "metadata": {
    "slideshow": {
     "slide_type": "slide"
    }
   },
   "source": [
    "## Momento Atual\n",
    "\n",
    "* Poligono de vias (SMDU/SpTrans)\n",
    "    * https://github.com/geoinfo-smdu/Poligono-de-vias\n",
    "* Espacialização da aprovação de alvarás (SEL)\n",
    "    * https://github.com/geoinfo-smdu/aprovacao-de-alvaras\n",
    "* Espacialização dos atendimentos SP156 (SMIT)\n",
    "    * https://github.com/geoinfo-smdu/geo-sp156\n",
    "    * Mais de 2000 camadas para download\n",
    "    * Cerca de 300 camadas de visualização\n",
    "    * Dois projetos de pesquisa em Doutorado na FAU aceitos (Dez/2020)\n",
    "* AWS (Nuvem da Amazon)"
   ]
  },
  {
   "cell_type": "markdown",
   "metadata": {
    "slideshow": {
     "slide_type": "slide"
    }
   },
   "source": [
    "## Projetos que estimulam a colaboração\n",
    "\n",
    "* Tutorial do Cloud Compare\n",
    "    * https://github.com/geoinfo-smdu/Tutorial-CloudCompare\n",
    "    * https://danmizuta.github.io/Tutorial-CloudCompare/tutorial.html\n",
    "* Tutorial do GeoSampa\n",
    "    * https://github.com/geoinfo-smdu/tutorial-GeoSampa\n",
    "    * https://geoinfo-smdu.github.io/tutorial-GeoSampa/tutorial.html (Saudades do Stefano)"
   ]
  },
  {
   "cell_type": "markdown",
   "metadata": {
    "slideshow": {
     "slide_type": "slide"
    }
   },
   "source": [
    "## Hipótese: Compartilhar (dialogar) conhecimentos gera autonomia e estimula a colaboração?\n",
    "\n",
    "> \"Não há saber mais, ou saber menos: há saberes diferentes\" \n",
    "> (Paulo Freire)\n",
    "\n",
    "> Dialogar por código (progamação) tem que libertar, senão é mera substituição da opressão alienadora do(s) sistema(s) vigentes"
   ]
  },
  {
   "cell_type": "markdown",
   "metadata": {
    "slideshow": {
     "slide_type": "subslide"
    }
   },
   "source": [
    "## Repositórios de compartilhamento de conhecimento\n",
    "\n",
    "* Espacialização do IPTU\n",
    "    * https://github.com/geoinfo-smdu/georeferenciamento-do-iptu\n",
    "* Utilziando nuvem de pontos por serviço (Entwine)\n",
    "    * https://github.com/geoinfo-smdu/utilizando-entwine-LiDAR\n",
    "* Explicando e gerando SCM (Sistema Cartográfico Metropolitano)\n",
    "    * https://github.com/geoinfo-smdu/SCM\n",
    "* Obtendo a geometria de um lote fiscal por serviço (WMS/WFS)\n",
    "    * https://github.com/geoinfo-smdu/lotes-m3dc"
   ]
  },
  {
   "cell_type": "markdown",
   "metadata": {
    "slideshow": {
     "slide_type": "slide"
    }
   },
   "source": [
    "## Cronograma 21\n",
    "\n",
    "| Atividade | Previsão |\n",
    "| :---------- | ----------: |\n",
    "| Tutoriais/Cursos GeoSamPy (Python e GeoSampa) | um módulo a cada mês |\n",
    "| Mapeamento do fator de céu visível (https://github.com/geoinfo-smdu/fator-de-visao-do-ceu) | 1º Tri/21 |\n",
    "| Identificação das faixas de pedestre (https://github.com/geoinfo-smdu/faixas-de-pedestre) | 2º Tri/21 |\n",
    "| Geocodificador Pelias em produção | 3º Tri/21 |\n",
    "| Rede de rotas caminháveis / Insumos PDE | 4º Tri/22 |\n"
   ]
  }
 ],
 "metadata": {
  "celltoolbar": "Slideshow",
  "kernelspec": {
   "display_name": "Python 3",
   "language": "python",
   "name": "python3"
  },
  "language_info": {
   "codemirror_mode": {
    "name": "ipython",
    "version": 3
   },
   "file_extension": ".py",
   "mimetype": "text/x-python",
   "name": "python",
   "nbconvert_exporter": "python",
   "pygments_lexer": "ipython3",
   "version": "3.8.3"
  }
 },
 "nbformat": 4,
 "nbformat_minor": 4
}
